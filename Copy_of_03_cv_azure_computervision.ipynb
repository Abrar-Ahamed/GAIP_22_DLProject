{
  "nbformat": 4,
  "nbformat_minor": 0,
  "metadata": {
    "colab": {
      "name": "Copy of 03_cv_azure_computervision.ipynb",
      "provenance": []
    },
    "kernelspec": {
      "name": "python3",
      "display_name": "Python 3"
    },
    "language_info": {
      "name": "python"
    }
  },
  "cells": [
    {
      "cell_type": "code",
      "execution_count": null,
      "metadata": {
        "colab": {
          "base_uri": "https://localhost:8080/"
        },
        "id": "VywjqnEhlhDA",
        "outputId": "5e6aa743-bc5f-40c3-fe39-ed27ecf11a32"
      },
      "outputs": [
        {
          "output_type": "stream",
          "name": "stdout",
          "text": [
            "Looking in indexes: https://pypi.org/simple, https://us-python.pkg.dev/colab-wheels/public/simple/\n",
            "Requirement already satisfied: azure-cognitiveservices-vision-computervision in /usr/local/lib/python3.7/dist-packages (0.9.0)\n",
            "Requirement already satisfied: azure-common~=1.1 in /usr/local/lib/python3.7/dist-packages (from azure-cognitiveservices-vision-computervision) (1.1.28)\n",
            "Requirement already satisfied: msrest>=0.5.0 in /usr/local/lib/python3.7/dist-packages (from azure-cognitiveservices-vision-computervision) (0.7.1)\n",
            "Requirement already satisfied: certifi>=2017.4.17 in /usr/local/lib/python3.7/dist-packages (from msrest>=0.5.0->azure-cognitiveservices-vision-computervision) (2022.6.15)\n",
            "Requirement already satisfied: requests-oauthlib>=0.5.0 in /usr/local/lib/python3.7/dist-packages (from msrest>=0.5.0->azure-cognitiveservices-vision-computervision) (1.3.1)\n",
            "Requirement already satisfied: isodate>=0.6.0 in /usr/local/lib/python3.7/dist-packages (from msrest>=0.5.0->azure-cognitiveservices-vision-computervision) (0.6.1)\n",
            "Requirement already satisfied: azure-core>=1.24.0 in /usr/local/lib/python3.7/dist-packages (from msrest>=0.5.0->azure-cognitiveservices-vision-computervision) (1.24.1)\n",
            "Requirement already satisfied: requests~=2.16 in /usr/local/lib/python3.7/dist-packages (from msrest>=0.5.0->azure-cognitiveservices-vision-computervision) (2.23.0)\n",
            "Requirement already satisfied: typing-extensions>=4.0.1 in /usr/local/lib/python3.7/dist-packages (from azure-core>=1.24.0->msrest>=0.5.0->azure-cognitiveservices-vision-computervision) (4.1.1)\n",
            "Requirement already satisfied: six>=1.11.0 in /usr/local/lib/python3.7/dist-packages (from azure-core>=1.24.0->msrest>=0.5.0->azure-cognitiveservices-vision-computervision) (1.15.0)\n",
            "Requirement already satisfied: idna<3,>=2.5 in /usr/local/lib/python3.7/dist-packages (from requests~=2.16->msrest>=0.5.0->azure-cognitiveservices-vision-computervision) (2.10)\n",
            "Requirement already satisfied: chardet<4,>=3.0.2 in /usr/local/lib/python3.7/dist-packages (from requests~=2.16->msrest>=0.5.0->azure-cognitiveservices-vision-computervision) (3.0.4)\n",
            "Requirement already satisfied: urllib3!=1.25.0,!=1.25.1,<1.26,>=1.21.1 in /usr/local/lib/python3.7/dist-packages (from requests~=2.16->msrest>=0.5.0->azure-cognitiveservices-vision-computervision) (1.24.3)\n",
            "Requirement already satisfied: oauthlib>=3.0.0 in /usr/local/lib/python3.7/dist-packages (from requests-oauthlib>=0.5.0->msrest>=0.5.0->azure-cognitiveservices-vision-computervision) (3.2.0)\n",
            "Looking in indexes: https://pypi.org/simple, https://us-python.pkg.dev/colab-wheels/public/simple/\n",
            "Requirement already satisfied: pillow in /usr/local/lib/python3.7/dist-packages (7.1.2)\n"
          ]
        }
      ],
      "source": [
        "!pip install --upgrade azure-cognitiveservices-vision-computervision\n",
        "!pip install pillow"
      ]
    },
    {
      "cell_type": "code",
      "source": [
        "from azure.cognitiveservices.vision.computervision import ComputerVisionClient\n",
        "from azure.cognitiveservices.vision.computervision.models import OperationStatusCodes\n",
        "from azure.cognitiveservices.vision.computervision.models import VisualFeatureTypes\n",
        "from msrest.authentication import CognitiveServicesCredentials\n",
        "\n",
        "from array import array\n",
        "import os\n",
        "from PIL import Image\n",
        "import sys\n",
        "import time"
      ],
      "metadata": {
        "id": "WXcPBtGflu4s"
      },
      "execution_count": null,
      "outputs": []
    },
    {
      "cell_type": "code",
      "source": [
        "subscription_key = \"d6d6bae3b5e74a13ab84025266c7d66b\"\n",
        "endpoint = \"https://hungryhippo.cognitiveservices.azure.com/\""
      ],
      "metadata": {
        "id": "mlV2vvkHl_xS"
      },
      "execution_count": null,
      "outputs": []
    },
    {
      "cell_type": "code",
      "source": [
        "#authenticate our notebook for azure computer vision\n",
        "cvcredentials = CognitiveServicesCredentials(subscription_key)\n",
        "computervision_client = ComputerVisionClient(endpoint, cvcredentials)"
      ],
      "metadata": {
        "id": "xCwWq4hJoWDV"
      },
      "execution_count": null,
      "outputs": []
    },
    {
      "cell_type": "code",
      "source": [
        "baseurl = 'https://madhuratcatcherprivate.blob.core.windows.net/abu/'\n",
        "imgname = ['car', 'landscape','fire','don']\n",
        "imgurl = {}\n",
        "for i in range(4):\n",
        "  fname =  baseurl + '000' + str(i) + '.jpg'\n",
        "  imgurl[imgname[i]] = fname\n",
        "imgurl"
      ],
      "metadata": {
        "colab": {
          "base_uri": "https://localhost:8080/"
        },
        "id": "UcIe232poqse",
        "outputId": "7147f842-064b-4f03-d490-bb58918e85cb"
      },
      "execution_count": null,
      "outputs": [
        {
          "output_type": "execute_result",
          "data": {
            "text/plain": [
              "{'car': 'https://madhuratcatcherprivate.blob.core.windows.net/abu/0000.jpg',\n",
              " 'don': 'https://madhuratcatcherprivate.blob.core.windows.net/abu/0003.jpg',\n",
              " 'fire': 'https://madhuratcatcherprivate.blob.core.windows.net/abu/0002.jpg',\n",
              " 'landscape': 'https://madhuratcatcherprivate.blob.core.windows.net/abu/0001.jpg'}"
            ]
          },
          "metadata": {},
          "execution_count": 53
        }
      ]
    },
    {
      "cell_type": "code",
      "source": [
        "dir(computervision_client)"
      ],
      "metadata": {
        "id": "YzWphM3f4amu",
        "outputId": "c448597d-36d0-4b8b-d654-f0f876361928",
        "colab": {
          "base_uri": "https://localhost:8080/"
        }
      },
      "execution_count": null,
      "outputs": [
        {
          "output_type": "execute_result",
          "data": {
            "text/plain": [
              "['__class__',\n",
              " '__delattr__',\n",
              " '__dict__',\n",
              " '__dir__',\n",
              " '__doc__',\n",
              " '__enter__',\n",
              " '__eq__',\n",
              " '__exit__',\n",
              " '__format__',\n",
              " '__ge__',\n",
              " '__getattribute__',\n",
              " '__gt__',\n",
              " '__hash__',\n",
              " '__init__',\n",
              " '__init_subclass__',\n",
              " '__le__',\n",
              " '__lt__',\n",
              " '__module__',\n",
              " '__ne__',\n",
              " '__new__',\n",
              " '__reduce__',\n",
              " '__reduce_ex__',\n",
              " '__repr__',\n",
              " '__setattr__',\n",
              " '__sizeof__',\n",
              " '__str__',\n",
              " '__subclasshook__',\n",
              " '__weakref__',\n",
              " '_client',\n",
              " '_deserialize',\n",
              " '_serialize',\n",
              " 'analyze_image',\n",
              " 'analyze_image_by_domain',\n",
              " 'analyze_image_by_domain_in_stream',\n",
              " 'analyze_image_in_stream',\n",
              " 'api_version',\n",
              " 'close',\n",
              " 'config',\n",
              " 'describe_image',\n",
              " 'describe_image_in_stream',\n",
              " 'detect_objects',\n",
              " 'detect_objects_in_stream',\n",
              " 'generate_thumbnail',\n",
              " 'generate_thumbnail_in_stream',\n",
              " 'get_area_of_interest',\n",
              " 'get_area_of_interest_in_stream',\n",
              " 'get_read_result',\n",
              " 'list_models',\n",
              " 'read',\n",
              " 'read_in_stream',\n",
              " 'recognize_printed_text',\n",
              " 'recognize_printed_text_in_stream',\n",
              " 'tag_image',\n",
              " 'tag_image_in_stream']"
            ]
          },
          "metadata": {},
          "execution_count": 54
        }
      ]
    },
    {
      "cell_type": "code",
      "source": [
        "computervision_client.__dict__"
      ],
      "metadata": {
        "id": "t57Wgt6z5TJd",
        "outputId": "40e9cef4-d521-49fa-efd2-2fbdf2939ee1",
        "colab": {
          "base_uri": "https://localhost:8080/"
        }
      },
      "execution_count": null,
      "outputs": [
        {
          "output_type": "execute_result",
          "data": {
            "text/plain": [
              "{'_client': <msrest.service_client.ServiceClient at 0x7f0ea0613850>,\n",
              " '_deserialize': <msrest.serialization.Deserializer at 0x7f0ea0623610>,\n",
              " '_serialize': <msrest.serialization.Serializer at 0x7f0ea0613310>,\n",
              " 'api_version': '3.2',\n",
              " 'config': <azure.cognitiveservices.vision.computervision._configuration.ComputerVisionClientConfiguration at 0x7f0ea0623190>}"
            ]
          },
          "metadata": {},
          "execution_count": 55
        }
      ]
    },
    {
      "cell_type": "code",
      "source": [
        "for imname, imgur in imgurl.items():\n",
        "  description_results = computervision_client.describe_image(imgur)\n",
        "  print('Image = ' + imname)\n",
        "  print()\n",
        "  # Get the captions (descriptions) from the response, with confidence level\n",
        "  print(\"Description of remote image: \")\n",
        "  if (len(description_results.captions) == 0):\n",
        "      print(\"No description detected.\")\n",
        "      print('****')\n",
        "  else:\n",
        "      for caption in description_results.captions:\n",
        "          print(\"'{}' with confidence {:.2f}%\".format(caption.text, caption.confidence * 100))\n",
        "      print('****')"
      ],
      "metadata": {
        "colab": {
          "base_uri": "https://localhost:8080/"
        },
        "id": "UrZKf3ZBu4rv",
        "outputId": "c6ea8574-7683-4209-b100-506ff43c0a20"
      },
      "execution_count": null,
      "outputs": [
        {
          "output_type": "stream",
          "name": "stdout",
          "text": [
            "Image = car\n",
            "\n",
            "Description of remote image: \n",
            "'a car on a road with birds flying around' with confidence 40.60%\n",
            "****\n",
            "Image = landscape\n",
            "\n",
            "Description of remote image: \n",
            "'a lake with mountains and trees' with confidence 36.46%\n",
            "****\n",
            "Image = fire\n",
            "\n",
            "Description of remote image: \n",
            "'a red and orange explosion' with confidence 24.86%\n",
            "****\n",
            "Image = don\n",
            "\n",
            "Description of remote image: \n",
            "'Sivakarthikeyan with a mustache' with confidence 42.93%\n",
            "****\n"
          ]
        }
      ]
    },
    {
      "cell_type": "code",
      "source": [
        "for imname, imgur in imgurl.items():\n",
        "  print(imgur)"
      ],
      "metadata": {
        "id": "wJl4rDG96k-L",
        "outputId": "f93d486f-e166-4912-e44e-5f6c1b237017",
        "colab": {
          "base_uri": "https://localhost:8080/"
        }
      },
      "execution_count": null,
      "outputs": [
        {
          "output_type": "stream",
          "name": "stdout",
          "text": [
            "https://madhuratcatcherprivate.blob.core.windows.net/abu/0000.jpg\n",
            "https://madhuratcatcherprivate.blob.core.windows.net/abu/0001.jpg\n",
            "https://madhuratcatcherprivate.blob.core.windows.net/abu/0002.jpg\n",
            "https://madhuratcatcherprivate.blob.core.windows.net/abu/0003.jpg\n"
          ]
        }
      ]
    },
    {
      "cell_type": "code",
      "source": [
        "for imname, imgur in imgurl.items():\n",
        "\n",
        "  remote_image_features = [\"categories\"]\n",
        "  # Call API with URL and features\n",
        "  try:\n",
        "    categorize_results_remote = computervision_client.analyze_image(imgur , remote_image_features)\n",
        "    print(imname)\n",
        "    # Print results with confidence score\n",
        "    print(\"Categories from remote image: \")\n",
        "    if (len(categorize_results_remote.categories) == 0):\n",
        "        print(\"No categories detected.\")\n",
        "        print('*****')\n",
        "    else:\n",
        "        for category in categorize_results_remote.categories:\n",
        "            print(\"'{}' with confidence {:.2f}%\".format(category.name, category.score * 100))\n",
        "        print('*****')\n",
        "  except:\n",
        "    print('Some random error happened. Move on.')\n",
        "    continue"
      ],
      "metadata": {
        "colab": {
          "base_uri": "https://localhost:8080/"
        },
        "id": "J06CTF-VwIXE",
        "outputId": "fc929c8d-355c-4184-9f8a-0f5f80df31cf"
      },
      "execution_count": null,
      "outputs": [
        {
          "output_type": "stream",
          "name": "stdout",
          "text": [
            "car\n",
            "Categories from remote image: \n",
            "'others_' with confidence 1.56%\n",
            "'outdoor_' with confidence 0.39%\n",
            "'sky_cloud' with confidence 36.72%\n",
            "*****\n",
            "landscape\n",
            "Categories from remote image: \n",
            "'outdoor_' with confidence 0.78%\n",
            "'people_swimming' with confidence 80.47%\n",
            "*****\n",
            "fire\n",
            "Categories from remote image: \n",
            "'dark_fire' with confidence 99.22%\n",
            "*****\n",
            "don\n",
            "Categories from remote image: \n",
            "'people_young' with confidence 37.50%\n",
            "*****\n"
          ]
        }
      ]
    },
    {
      "cell_type": "code",
      "source": [
        "for imname, imgur in imgurl.items():\n",
        "\n",
        "  # Call API with remote image\n",
        "  tags_result_remote = computervision_client.tag_image(imgur)\n",
        "  print(imname)\n",
        "  # Print results with confidence score\n",
        "  print(\"Tags in the remote image: \")\n",
        "  if (len(tags_result_remote.tags) == 0):\n",
        "      print(\"No tags detected.\")\n",
        "      print('****')\n",
        "  else:\n",
        "      for tag in tags_result_remote.tags:\n",
        "          print(\"'{}' with confidence {:.2f}%\".format(tag.name, tag.confidence * 100))\n",
        "      print('****')"
      ],
      "metadata": {
        "colab": {
          "base_uri": "https://localhost:8080/"
        },
        "id": "BWGXnD_T4JSZ",
        "outputId": "df2fb46c-036a-452e-d58d-6378c6cea4d8"
      },
      "execution_count": null,
      "outputs": [
        {
          "output_type": "stream",
          "name": "stdout",
          "text": [
            "car\n",
            "Tags in the remote image: \n",
            "'vehicle' with confidence 99.35%\n",
            "'land vehicle' with confidence 98.77%\n",
            "'wheel' with confidence 96.79%\n",
            "'water' with confidence 92.24%\n",
            "'outdoor' with confidence 91.24%\n",
            "'tire' with confidence 90.88%\n",
            "'sky' with confidence 86.96%\n",
            "'fog' with confidence 85.12%\n",
            "'car' with confidence 84.54%\n",
            "'automotive' with confidence 71.91%\n",
            "'sunset' with confidence 63.13%\n",
            "'mountain' with confidence 62.51%\n",
            "'sunrise' with confidence 50.58%\n",
            "'landscape' with confidence 47.18%\n",
            "****\n",
            "landscape\n",
            "Tags in the remote image: \n",
            "'landscape' with confidence 99.67%\n",
            "'outdoor' with confidence 98.70%\n",
            "'mountain' with confidence 97.64%\n",
            "'water' with confidence 96.96%\n",
            "'sky' with confidence 96.92%\n",
            "'tree' with confidence 96.63%\n",
            "'nature' with confidence 96.28%\n",
            "'cloud' with confidence 95.69%\n",
            "'wilderness' with confidence 91.11%\n",
            "'tarn' with confidence 90.09%\n",
            "'mountain range' with confidence 88.88%\n",
            "'reflection' with confidence 88.72%\n",
            "'glacial lake' with confidence 88.60%\n",
            "'lake' with confidence 79.05%\n",
            "'sunrise' with confidence 44.41%\n",
            "****\n",
            "fire\n",
            "Tags in the remote image: \n",
            "'fireworks' with confidence 97.97%\n",
            "'universe' with confidence 85.91%\n",
            "'darkness' with confidence 85.38%\n",
            "'heat' with confidence 84.05%\n",
            "****\n",
            "don\n",
            "Tags in the remote image: \n",
            "'person' with confidence 99.80%\n",
            "'human face' with confidence 99.71%\n",
            "'man' with confidence 98.66%\n",
            "'human beard' with confidence 94.75%\n",
            "'clothing' with confidence 94.70%\n",
            "'moustache' with confidence 89.09%\n",
            "'outdoor' with confidence 88.90%\n",
            "'facial hair' with confidence 88.63%\n",
            "'human' with confidence 84.59%\n",
            "'yellow' with confidence 74.52%\n",
            "'wearing' with confidence 60.91%\n",
            "'shirt' with confidence 55.66%\n",
            "****\n"
          ]
        }
      ]
    },
    {
      "cell_type": "code",
      "source": [
        "for imname, imgur in imgurl.items():\n",
        "  detect_objects_results_remote = computervision_client.detect_objects(imgur)\n",
        "  print('*****')\n",
        "  print(imname)\n",
        "  # Print detected objects results with bounding boxes\n",
        "  print(\"Detecting objects in remote image:\")\n",
        "  if len(detect_objects_results_remote.objects) == 0:\n",
        "      print(\"No objects detected.\")\n",
        "  else:\n",
        "      for object in detect_objects_results_remote.objects:\n",
        "          print(\"object at location {}, {}, {}, {}\".format( \\\n",
        "          object.rectangle.x, object.rectangle.x + object.rectangle.w, \\\n",
        "          object.rectangle.y, object.rectangle.y + object.rectangle.h))"
      ],
      "metadata": {
        "colab": {
          "base_uri": "https://localhost:8080/"
        },
        "id": "BsRIAqMi4Xba",
        "outputId": "a43dcc7a-f4d1-40f2-9789-b79b1f3b5993"
      },
      "execution_count": null,
      "outputs": [
        {
          "output_type": "stream",
          "name": "stdout",
          "text": [
            "*****\n",
            "car\n",
            "Detecting objects in remote image:\n",
            "object at location 1163, 2571, 907, 1388\n",
            "*****\n",
            "landscape\n",
            "Detecting objects in remote image:\n",
            "object at location 457, 1008, 161, 437\n",
            "*****\n",
            "fire\n",
            "Detecting objects in remote image:\n",
            "No objects detected.\n",
            "*****\n",
            "don\n",
            "Detecting objects in remote image:\n",
            "object at location 41, 486, 288, 623\n",
            "object at location 276, 1006, 8, 619\n"
          ]
        }
      ]
    },
    {
      "cell_type": "code",
      "source": [
        "\n",
        "for imgname, imgur in imgurl.items():\n",
        "    \n",
        "  remote_image_url_faces = imgur\n",
        "  # Select the visual feature(s) you want.\n",
        "  remote_image_features = [\"faces\"]\n",
        "  # Call the API with remote URL and features\n",
        "  detect_faces_results_remote = computervision_client.analyze_image(remote_image_url_faces, remote_image_features)\n",
        "  print('****')\n",
        "  print(imgname)\n",
        "  # Print the results with gender, age, and bounding box\n",
        "  print(\"Faces in the remote image: \")\n",
        "  if (len(detect_faces_results_remote.faces) == 0):\n",
        "      print(\"No faces detected.\")\n",
        "  else:\n",
        "      for face in detect_faces_results_remote.faces:\n",
        "          print(\"'{}' of age {} at location {}, {}, {}, {}\".format(face.gender, face.age, \\\n",
        "          face.face_rectangle.left, face.face_rectangle.top, \\\n",
        "          face.face_rectangle.left + face.face_rectangle.width, \\\n",
        "          face.face_rectangle.top + face.face_rectangle.height))"
      ],
      "metadata": {
        "colab": {
          "base_uri": "https://localhost:8080/"
        },
        "id": "0vtUDtSU5aWT",
        "outputId": "481340cc-66cb-4bae-f514-f4cbf1717a06"
      },
      "execution_count": null,
      "outputs": [
        {
          "output_type": "stream",
          "name": "stdout",
          "text": [
            "****\n",
            "car\n",
            "Faces in the remote image: \n",
            "No faces detected.\n",
            "****\n",
            "landscape\n",
            "Faces in the remote image: \n",
            "No faces detected.\n",
            "****\n",
            "fire\n",
            "Faces in the remote image: \n",
            "No faces detected.\n",
            "****\n",
            "don\n",
            "Faces in the remote image: \n",
            "'Male' of age 38 at location 325, 142, 666, 483\n"
          ]
        }
      ]
    },
    {
      "cell_type": "code",
      "source": [
        ""
      ],
      "metadata": {
        "id": "ZYAD5lI-59Ga"
      },
      "execution_count": null,
      "outputs": []
    }
  ]
}